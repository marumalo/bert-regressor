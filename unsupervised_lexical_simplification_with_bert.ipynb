{
  "nbformat": 4,
  "nbformat_minor": 0,
  "metadata": {
    "colab": {
      "name": "unsupervised_lexical_simplification_with_bert.ipynb",
      "provenance": [],
      "authorship_tag": "ABX9TyON8SEl9gy4ZSbGuDcmQmwA",
      "include_colab_link": true
    },
    "kernelspec": {
      "name": "python3",
      "display_name": "Python 3"
    }
  },
  "cells": [
    {
      "cell_type": "markdown",
      "metadata": {
        "id": "view-in-github",
        "colab_type": "text"
      },
      "source": [
        "<a href=\"https://colab.research.google.com/github/tkmaroon/bert-regressor/blob/master/unsupervised_lexical_simplification_with_bert.ipynb\" target=\"_parent\"><img src=\"https://colab.research.google.com/assets/colab-badge.svg\" alt=\"Open In Colab\"/></a>"
      ]
    },
    {
      "cell_type": "markdown",
      "metadata": {
        "id": "7pWD5xb4L_JV",
        "colab_type": "text"
      },
      "source": [
        "# Unsupervised Lexical Simplification with BERT\n",
        "## Overview\n",
        "Lexical simplification aims to replace complex words in a given sentence with their simpler alternatives whlie preserve meaning.  This notebook performs lexical simplification with BERT following \"*A Simple BERT-Based Approach for Lexical Simplification*\" [1]. The proposed method is a very simple, but effective.   \n",
        "\n"
      ]
    },
    {
      "cell_type": "markdown",
      "metadata": {
        "id": "e1SFYlc3QsTw",
        "colab_type": "text"
      },
      "source": [
        "## Settings"
      ]
    },
    {
      "cell_type": "code",
      "metadata": {
        "id": "vhYTBzUDQp8X",
        "colab_type": "code",
        "cellView": "both",
        "outputId": "5c155e7c-6cf5-4a79-96f0-18406147bdd6",
        "colab": {
          "base_uri": "https://localhost:8080/",
          "height": 102
        }
      },
      "source": [
        "#@title Setup environment\n",
        "!pip install --quiet pytorch-transformers\n",
        "!pip install --quiet pytorch-nlp\n",
        "!pip install --quiet tqdm"
      ],
      "execution_count": 0,
      "outputs": [
        {
          "output_type": "stream",
          "text": [
            "\u001b[K     |████████████████████████████████| 184kB 2.8MB/s \n",
            "\u001b[K     |████████████████████████████████| 1.0MB 8.2MB/s \n",
            "\u001b[K     |████████████████████████████████| 870kB 20.2MB/s \n",
            "\u001b[?25h  Building wheel for sacremoses (setup.py) ... \u001b[?25l\u001b[?25hdone\n",
            "\u001b[K     |████████████████████████████████| 92kB 2.9MB/s \n",
            "\u001b[?25h"
          ],
          "name": "stdout"
        }
      ]
    },
    {
      "cell_type": "code",
      "metadata": {
        "id": "kMCjFnONQvPR",
        "colab_type": "code",
        "cellView": "both",
        "colab": {}
      },
      "source": [
        "#@title Setup common imports\n",
        "from collections import Counter\n",
        "from tqdm import tqdm\n",
        "import numpy as np\n",
        "import torch\n",
        "from pytorch_transformers import (\n",
        "    BertTokenizer,\n",
        "    BertForMaskedLM,\n",
        ")\n",
        "\n",
        "import matplotlib.pyplot as plt\n",
        "% matplotlib inline"
      ],
      "execution_count": 0,
      "outputs": []
    },
    {
      "cell_type": "markdown",
      "metadata": {
        "id": "A90nF_ctPVy_",
        "colab_type": "text"
      },
      "source": [
        "## Substitution Generation\n",
        "We obtain substitution candidate...\n",
        "<!-- Figure: The model architechture -->\n",
        "\n"
      ]
    },
    {
      "cell_type": "code",
      "metadata": {
        "id": "Ape_pX4ARUKT",
        "colab_type": "code",
        "outputId": "1fc06ad9-3c7f-43f8-b13a-a8229e428dfd",
        "colab": {
          "base_uri": "https://localhost:8080/",
          "height": 68
        }
      },
      "source": [
        "# Build model\n",
        "tokenizer = BertTokenizer.from_pretrained('bert-base-uncased')\n",
        "model = BertForMaskedLM.from_pretrained('bert-base-uncased')"
      ],
      "execution_count": 0,
      "outputs": [
        {
          "output_type": "stream",
          "text": [
            "100%|██████████| 231508/231508 [00:00<00:00, 5965161.35B/s]\n",
            "100%|██████████| 361/361 [00:00<00:00, 76719.89B/s]\n",
            "100%|██████████| 440473133/440473133 [00:07<00:00, 59185022.20B/s]\n"
          ],
          "name": "stderr"
        }
      ]
    },
    {
      "cell_type": "code",
      "metadata": {
        "id": "3P-4wiBxPX7S",
        "colab_type": "code",
        "colab": {}
      },
      "source": [
        "# Model's input\n",
        "text = \"[CLS] the cat perched on the mat [SEP] the cat perched on the mat [SEP]\"\n",
        "masked_idx = 10"
      ],
      "execution_count": 0,
      "outputs": []
    },
    {
      "cell_type": "code",
      "metadata": {
        "id": "gWo9CFXIRzmw",
        "colab_type": "code",
        "colab": {}
      },
      "source": [
        "# Tokenize a text\n",
        "tokenized_text = tokenizer.tokenize(text)\n",
        "\n",
        "# Mask a complex token which should be substituted\n",
        "complex_word = tokenized_text[masked_idx]\n",
        "tokenized_text[masked_idx] = '[MASK]'\n",
        "\n",
        "# Convert inputs to PyTorch tensors\n",
        "tokens_ids = tokenizer.convert_tokens_to_ids(tokenized_text)\n",
        "segments_ids = [0, 0, 0, 0, 0, 0, 0, 0, 1, 1, 1, 1, 1, 1, 1]\n",
        "tokens_tensor = torch.tensor([tokens_ids])\n",
        "segments_tensors = torch.tensor([segments_ids])"
      ],
      "execution_count": 0,
      "outputs": []
    },
    {
      "cell_type": "code",
      "metadata": {
        "id": "QsyoSBm3SEJi",
        "colab_type": "code",
        "colab": {}
      },
      "source": [
        "# Predict a masked token\n",
        "model.eval()\n",
        "if torch.cuda.is_available():\n",
        "    tokens_tensor = tokens_tensor.to('cuda')\n",
        "    segments_tensors = segments_tensors.to('cuda')\n",
        "    model.to('cuda')\n",
        "\n",
        "with torch.no_grad():\n",
        "    outputs = model(tokens_tensor, token_type_ids=segments_tensors)\n",
        "    predictions = outputs[0]"
      ],
      "execution_count": 0,
      "outputs": []
    },
    {
      "cell_type": "code",
      "metadata": {
        "id": "lSueDInYSSXO",
        "colab_type": "code",
        "outputId": "959cf97f-fc73-40b1-aa65-bd8a35f2b3c0",
        "colab": {
          "base_uri": "https://localhost:8080/",
          "height": 336
        }
      },
      "source": [
        "# Output top 10 of candidates\n",
        "topk_score, topk_index = torch.topk(predictions[0, masked_idx], 10)\n",
        "topk_tokens = tokenizer.convert_ids_to_tokens(topk_index.tolist())\n",
        "print(f'Input: {\" \".join(tokenized_text)}')\n",
        "print(f'Top10: {topk_tokens}')\n",
        "\n",
        "# Visualize output probabilities\n",
        "plt.bar(topk_tokens, torch.softmax(topk_score, 0).tolist())\n",
        "plt.xticks(rotation=70)\n",
        "plt.ylabel('Probability')\n",
        "plt.show()"
      ],
      "execution_count": 0,
      "outputs": [
        {
          "output_type": "stream",
          "text": [
            "Input: [CLS] the cat perched on the mat [SEP] the cat [MASK] on the mat [SEP]\n",
            "Top10: ['perched', 'sat', 'landed', 'was', 'rested', 'stood', 'settled', 'hovered', 'sitting', 'crouched']\n"
          ],
          "name": "stdout"
        },
        {
          "output_type": "display_data",
          "data": {
            "image/png": "[encoded data removed]",
            "text/plain": [
              "<Figure size 432x288 with 1 Axes>"
            ]
          },
          "metadata": {
            "tags": []
          }
        }
      ]
    },
    {
      "cell_type": "markdown",
      "metadata": {
        "id": "FVPajT4APaA1",
        "colab_type": "text"
      },
      "source": [
        "## Substitution Ranking\n",
        "Previous section, we obtained subsitution candidates of a complex word \"*perched*\".  \n",
        "In this section, we rank substitution candidates by following four features:\n",
        "\n",
        "- Probability of BERT prediction;\n",
        "- Probability of n-gram language model;\n",
        "- Similarity obtained by FastText;\n",
        "- Word frequency;\n",
        "\n",
        "We choose the top of candidate with the highest average rank over all features as the simplification replacement.\n",
        "\n",
        "In this notebook, we use only a **probabitity of BERT predicaiton** and a **word frequency** for ranking step."
      ]
    },
    {
      "cell_type": "code",
      "metadata": {
        "id": "8BNPz8jrUysR",
        "colab_type": "code",
        "cellView": "both",
        "outputId": "29019cfb-10e0-4d7f-db10-1731ee7b73c1",
        "colab": {
          "base_uri": "https://localhost:8080/",
          "height": 1000
        }
      },
      "source": [
        "#@title Download the Children's Book Test (CBT)\n",
        "!wget http://www.thespermwhale.com/jaseweston/babi/CBTest.tgz\n",
        "!tar -xzf ./CBTest.tgz\n",
        "!DATA_PATH=./CBTest/data; cat ${DATA_PATH}/cbt_train.txt ${DATA_PATH}/cbt_valid.txt ${DATA_PATH}/cbt_test.txt > ./cbt_all.txt\n",
        "!wc ./cbt_all.txt"
      ],
      "execution_count": 0,
      "outputs": [
        {
          "output_type": "stream",
          "text": [
            "--2020-02-06 05:24:26--  http://www.thespermwhale.com/jaseweston/babi/CBTest.tgz\n",
            "Resolving www.thespermwhale.com (www.thespermwhale.com)... 69.65.3.213\n",
            "Connecting to www.thespermwhale.com (www.thespermwhale.com)|69.65.3.213|:80... connected.\n",
            "HTTP request sent, awaiting response... 200 OK\n",
            "Length: 120547669 (115M) [application/x-tar]\n",
            "Saving to: ‘CBTest.tgz’\n",
            "\n",
            "CBTest.tgz          100%[===================>] 114.96M  10.9MB/s    in 11s     \n",
            "\n",
            "2020-02-06 05:24:37 (10.5 MB/s) - ‘CBTest.tgz’ saved [120547669/120547669]\n",
            "\n",
            "tar: Ignoring unknown extended header keyword 'LIBARCHIVE.creationtime'\n",
            "tar: Ignoring unknown extended header keyword 'SCHILY.dev'\n",
            "tar: Ignoring unknown extended header keyword 'SCHILY.ino'\n",
            "tar: Ignoring unknown extended header keyword 'SCHILY.nlink'\n",
            "tar: Ignoring unknown extended header keyword 'SCHILY.dev'\n",
            "tar: Ignoring unknown extended header keyword 'SCHILY.ino'\n",
            "tar: Ignoring unknown extended header keyword 'SCHILY.nlink'\n",
            "tar: Ignoring unknown extended header keyword 'SCHILY.dev'\n",
            "tar: Ignoring unknown extended header keyword 'SCHILY.ino'\n",
            "tar: Ignoring unknown extended header keyword 'SCHILY.nlink'\n",
            "tar: Ignoring unknown extended header keyword 'LIBARCHIVE.creationtime'\n",
            "tar: Ignoring unknown extended header keyword 'SCHILY.dev'\n",
            "tar: Ignoring unknown extended header keyword 'SCHILY.ino'\n",
            "tar: Ignoring unknown extended header keyword 'SCHILY.nlink'\n",
            "tar: Ignoring unknown extended header keyword 'SCHILY.dev'\n",
            "tar: Ignoring unknown extended header keyword 'SCHILY.ino'\n",
            "tar: Ignoring unknown extended header keyword 'SCHILY.nlink'\n",
            "tar: Ignoring unknown extended header keyword 'LIBARCHIVE.creationtime'\n",
            "tar: Ignoring unknown extended header keyword 'SCHILY.dev'\n",
            "tar: Ignoring unknown extended header keyword 'SCHILY.ino'\n",
            "tar: Ignoring unknown extended header keyword 'SCHILY.nlink'\n",
            "tar: Ignoring unknown extended header keyword 'LIBARCHIVE.creationtime'\n",
            "tar: Ignoring unknown extended header keyword 'SCHILY.dev'\n",
            "tar: Ignoring unknown extended header keyword 'SCHILY.ino'\n",
            "tar: Ignoring unknown extended header keyword 'SCHILY.nlink'\n",
            "tar: Ignoring unknown extended header keyword 'SCHILY.dev'\n",
            "tar: Ignoring unknown extended header keyword 'SCHILY.ino'\n",
            "tar: Ignoring unknown extended header keyword 'SCHILY.nlink'\n",
            "tar: Ignoring unknown extended header keyword 'SCHILY.dev'\n",
            "tar: Ignoring unknown extended header keyword 'SCHILY.ino'\n",
            "tar: Ignoring unknown extended header keyword 'SCHILY.nlink'\n",
            "tar: Ignoring unknown extended header keyword 'SCHILY.dev'\n",
            "tar: Ignoring unknown extended header keyword 'SCHILY.ino'\n",
            "tar: Ignoring unknown extended header keyword 'SCHILY.nlink'\n",
            "tar: Ignoring unknown extended header keyword 'SCHILY.dev'\n",
            "tar: Ignoring unknown extended header keyword 'SCHILY.ino'\n",
            "tar: Ignoring unknown extended header keyword 'SCHILY.nlink'\n",
            "tar: Ignoring unknown extended header keyword 'SCHILY.dev'\n",
            "tar: Ignoring unknown extended header keyword 'SCHILY.ino'\n",
            "tar: Ignoring unknown extended header keyword 'SCHILY.nlink'\n",
            "tar: Ignoring unknown extended header keyword 'SCHILY.dev'\n",
            "tar: Ignoring unknown extended header keyword 'SCHILY.ino'\n",
            "tar: Ignoring unknown extended header keyword 'SCHILY.nlink'\n",
            "tar: Ignoring unknown extended header keyword 'SCHILY.dev'\n",
            "tar: Ignoring unknown extended header keyword 'SCHILY.ino'\n",
            "tar: Ignoring unknown extended header keyword 'SCHILY.nlink'\n",
            "tar: Ignoring unknown extended header keyword 'SCHILY.dev'\n",
            "tar: Ignoring unknown extended header keyword 'SCHILY.ino'\n",
            "tar: Ignoring unknown extended header keyword 'SCHILY.nlink'\n",
            "tar: Ignoring unknown extended header keyword 'SCHILY.dev'\n",
            "tar: Ignoring unknown extended header keyword 'SCHILY.ino'\n",
            "tar: Ignoring unknown extended header keyword 'SCHILY.nlink'\n",
            "tar: Ignoring unknown extended header keyword 'SCHILY.dev'\n",
            "tar: Ignoring unknown extended header keyword 'SCHILY.ino'\n",
            "tar: Ignoring unknown extended header keyword 'SCHILY.nlink'\n",
            "tar: Ignoring unknown extended header keyword 'SCHILY.dev'\n",
            "tar: Ignoring unknown extended header keyword 'SCHILY.ino'\n",
            "tar: Ignoring unknown extended header keyword 'SCHILY.nlink'\n",
            "tar: Ignoring unknown extended header keyword 'SCHILY.dev'\n",
            "tar: Ignoring unknown extended header keyword 'SCHILY.ino'\n",
            "tar: Ignoring unknown extended header keyword 'SCHILY.nlink'\n",
            "tar: Ignoring unknown extended header keyword 'SCHILY.dev'\n",
            "tar: Ignoring unknown extended header keyword 'SCHILY.ino'\n",
            "tar: Ignoring unknown extended header keyword 'SCHILY.nlink'\n",
            "tar: Ignoring unknown extended header keyword 'SCHILY.dev'\n",
            "tar: Ignoring unknown extended header keyword 'SCHILY.ino'\n",
            "tar: Ignoring unknown extended header keyword 'SCHILY.nlink'\n",
            "tar: Ignoring unknown extended header keyword 'SCHILY.dev'\n",
            "tar: Ignoring unknown extended header keyword 'SCHILY.ino'\n",
            "tar: Ignoring unknown extended header keyword 'SCHILY.nlink'\n",
            "tar: Ignoring unknown extended header keyword 'SCHILY.dev'\n",
            "tar: Ignoring unknown extended header keyword 'SCHILY.ino'\n",
            "tar: Ignoring unknown extended header keyword 'SCHILY.nlink'\n",
            "tar: Ignoring unknown extended header keyword 'SCHILY.dev'\n",
            "tar: Ignoring unknown extended header keyword 'SCHILY.ino'\n",
            "tar: Ignoring unknown extended header keyword 'SCHILY.nlink'\n",
            "tar: Ignoring unknown extended header keyword 'SCHILY.dev'\n",
            "tar: Ignoring unknown extended header keyword 'SCHILY.ino'\n",
            "tar: Ignoring unknown extended header keyword 'SCHILY.nlink'\n",
            "tar: Ignoring unknown extended header keyword 'SCHILY.dev'\n",
            "tar: Ignoring unknown extended header keyword 'SCHILY.ino'\n",
            "tar: Ignoring unknown extended header keyword 'SCHILY.nlink'\n",
            "tar: Ignoring unknown extended header keyword 'SCHILY.dev'\n",
            "tar: Ignoring unknown extended header keyword 'SCHILY.ino'\n",
            "tar: Ignoring unknown extended header keyword 'SCHILY.nlink'\n",
            "tar: Ignoring unknown extended header keyword 'SCHILY.dev'\n",
            "tar: Ignoring unknown extended header keyword 'SCHILY.ino'\n",
            "tar: Ignoring unknown extended header keyword 'SCHILY.nlink'\n",
            "tar: Ignoring unknown extended header keyword 'SCHILY.dev'\n",
            "tar: Ignoring unknown extended header keyword 'SCHILY.ino'\n",
            "tar: Ignoring unknown extended header keyword 'SCHILY.nlink'\n",
            "tar: Ignoring unknown extended header keyword 'SCHILY.dev'\n",
            "tar: Ignoring unknown extended header keyword 'SCHILY.ino'\n",
            "tar: Ignoring unknown extended header keyword 'SCHILY.nlink'\n",
            "tar: Ignoring unknown extended header keyword 'SCHILY.dev'\n",
            "tar: Ignoring unknown extended header keyword 'SCHILY.ino'\n",
            "tar: Ignoring unknown extended header keyword 'SCHILY.nlink'\n",
            "tar: Ignoring unknown extended header keyword 'SCHILY.dev'\n",
            "tar: Ignoring unknown extended header keyword 'SCHILY.ino'\n",
            "tar: Ignoring unknown extended header keyword 'SCHILY.nlink'\n",
            "  292912  6135083 28453805 ./cbt_all.txt\n"
          ],
          "name": "stdout"
        }
      ]
    },
    {
      "cell_type": "code",
      "metadata": {
        "id": "RHHukcMobWyz",
        "colab_type": "code",
        "cellView": "both",
        "outputId": "d60a095b-5c07-4fef-b71f-0a4cc5f8efe1",
        "colab": {
          "base_uri": "https://localhost:8080/",
          "height": 34
        }
      },
      "source": [
        "#@title Build a table of word frequency\n",
        "def count_lines(path):\n",
        "  with open(path, 'r') as f:\n",
        "    return sum([1 for _ in f])\n",
        "\n",
        "word_frequency = Counter()\n",
        "filepath = './cbt_all.txt'\n",
        "n_lines = count_lines(filepath)\n",
        "with open(filepath, 'r') as f:\n",
        "  for line in tqdm(f, total=n_lines):\n",
        "    if line.startswith(\"_BOOK_TITLE_\"):\n",
        "      continue\n",
        "    else:\n",
        "      tokens = tokenizer.tokenize(line.rstrip())\n",
        "      for token in tokens:\n",
        "        word_frequency[token] += 1"
      ],
      "execution_count": 0,
      "outputs": [
        {
          "output_type": "stream",
          "text": [
            "100%|██████████| 292912/292912 [02:01<00:00, 2414.95it/s]\n"
          ],
          "name": "stderr"
        }
      ]
    },
    {
      "cell_type": "code",
      "metadata": {
        "id": "R2zj_Ow9u4ch",
        "colab_type": "code",
        "colab": {}
      },
      "source": [
        "# substitution ranking\n",
        "bert_rank = np.array([i for i in range(len(topk_tokens))])\n",
        "frequency_rank = np.argsort([-word_frequency[token] for token in topk_tokens])\n",
        "avg_rank = np.argsort((bert_rank + frequency_rank) / 2)\n",
        "\n",
        "# sort candidates and except a complex word\n",
        "candidates = [topk_tokens[i] for i in avg_rank if topk_tokens[i] != complex_word]"
      ],
      "execution_count": 0,
      "outputs": []
    },
    {
      "cell_type": "code",
      "metadata": {
        "id": "sR1gcnLxwZeC",
        "colab_type": "code",
        "outputId": "633255c2-43dd-45c3-e44a-be50036f9e4a",
        "colab": {
          "base_uri": "https://localhost:8080/",
          "height": 34
        }
      },
      "source": [
        "tokenized_text[masked_idx] = candidates[0]\n",
        "print(\" \".join(tokenized_text))"
      ],
      "execution_count": 0,
      "outputs": [
        {
          "output_type": "stream",
          "text": [
            "[CLS] the cat perched on the mat [SEP] the cat sat on the mat [SEP]\n"
          ],
          "name": "stdout"
        }
      ]
    },
    {
      "cell_type": "markdown",
      "metadata": {
        "id": "hzOHx9T-QgDV",
        "colab_type": "text"
      },
      "source": [
        "## References\n",
        "\n",
        "[1] [A Simple BERT-Based Approach for Lexical Simplification\n",
        "](https://arxiv.org/abs/1907.06226)  \n",
        "[2] [huggingface/transformers](https://github.com/huggingface/transformers)\n"
      ]
    }
  ]
}